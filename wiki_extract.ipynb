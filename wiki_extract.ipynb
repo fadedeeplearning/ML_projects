{
  "nbformat": 4,
  "nbformat_minor": 0,
  "metadata": {
    "colab": {
      "provenance": [],
      "authorship_tag": "ABX9TyPsRrYKZv6ZfNJnJt8OkL8R",
      "include_colab_link": true
    },
    "kernelspec": {
      "name": "python3",
      "display_name": "Python 3"
    },
    "language_info": {
      "name": "python"
    }
  },
  "cells": [
    {
      "cell_type": "markdown",
      "metadata": {
        "id": "view-in-github",
        "colab_type": "text"
      },
      "source": [
        "<a href=\"https://colab.research.google.com/github/fadedeeplearning/ML_projects/blob/main/wiki_extract.ipynb\" target=\"_parent\"><img src=\"https://colab.research.google.com/assets/colab-badge.svg\" alt=\"Open In Colab\"/></a>"
      ]
    },
    {
      "cell_type": "markdown",
      "source": [
        "## Here I've extracted (crawled) text from pages from wikipedia [wikipedia_text.txt]"
      ],
      "metadata": {
        "id": "z-Bdrl-WOH74"
      }
    },
    {
      "cell_type": "code",
      "execution_count": 1,
      "metadata": {
        "id": "r2aYi-kNMe64"
      },
      "outputs": [],
      "source": [
        "import requests\n",
        "from bs4 import BeautifulSoup\n",
        "\n",
        "def scrape_wikipedia(url):\n",
        "    # Fetch the content of the Wikipedia page\n",
        "    response = requests.get(url)\n",
        "    if response.status_code == 200:\n",
        "        # Parse the HTML content using BeautifulSoup\n",
        "        soup = BeautifulSoup(response.content, 'html.parser')\n",
        "        # Find the main content of the page\n",
        "        content = soup.find(id='mw-content-text')\n",
        "        # Extract text from paragraphs\n",
        "        paragraphs = content.find_all('p')\n",
        "        # Write extracted text to a .txt file\n",
        "        with open('wikipedia_text.txt', 'w', encoding='utf-8') as file:\n",
        "            for p in paragraphs:\n",
        "                file.write(p.get_text() + '\\n')\n",
        "\n",
        "# URL of the Wikipedia page you want to scrape\n",
        "url = 'https://en.wikipedia.org/wiki/Annus_mirabilis_papers'\n",
        "scrape_wikipedia(url)\n"
      ]
    },
    {
      "cell_type": "markdown",
      "source": [
        "### tokenised it in sentences and moved it into a text file [tokenized_sentences.txt]"
      ],
      "metadata": {
        "id": "hB3acRz2bHMh"
      }
    },
    {
      "cell_type": "code",
      "source": [
        "import nltk\n",
        "nltk.download('punkt')  # Ensure punkt tokenizer is downloaded\n",
        "\n",
        "from nltk.tokenize import sent_tokenize\n",
        "\n",
        "def tokenize_sentences(input_file, output_file):\n",
        "    # Read input text from file\n",
        "    with open(input_file, 'r', encoding='utf-8') as f:\n",
        "        text = f.read()\n",
        "\n",
        "    # Tokenize text into sentences\n",
        "    sentences = sent_tokenize(text)\n",
        "\n",
        "    # Write tokenized sentences into output file\n",
        "    with open(output_file, 'w', encoding='utf-8') as f:\n",
        "        for sentence in sentences:\n",
        "            f.write(sentence + '\\n')\n",
        "\n",
        "# Example usage:\n",
        "input_file = 'wikipedia_text.txt'  # Specify the input file name\n",
        "output_file = 'tokenized_sentences.txt'  # Specify the output file name\n",
        "\n",
        "tokenize_sentences(input_file, output_file)\n"
      ],
      "metadata": {
        "colab": {
          "base_uri": "https://localhost:8080/"
        },
        "id": "eCD4nZTeMoR0",
        "outputId": "57fe255d-3dfd-41e6-85d0-73b05ba295ae"
      },
      "execution_count": 6,
      "outputs": [
        {
          "output_type": "stream",
          "name": "stderr",
          "text": [
            "[nltk_data] Downloading package punkt to /root/nltk_data...\n",
            "[nltk_data]   Package punkt is already up-to-date!\n"
          ]
        }
      ]
    },
    {
      "cell_type": "markdown",
      "source": [
        "## Creating a code to find num of sentences from tokenized file\n",
        "### We need minimum, 5000 Senences from multiple wikipedia pages.\n",
        "### Minimum 10,000 words lemmatized and without duplicate meanings."
      ],
      "metadata": {
        "id": "2TNo9LzcTv9T"
      }
    },
    {
      "cell_type": "code",
      "source": [
        "def count_sentences(tokenized_file):\n",
        "    # Read tokenized sentences from file\n",
        "    with open(tokenized_file, 'r', encoding='utf-8') as f:\n",
        "        tokenized_sentences = f.readlines()\n",
        "\n",
        "    # Count the number of sentences\n",
        "    num_sentences = len(tokenized_sentences)\n",
        "\n",
        "    return num_sentences\n",
        "\n",
        "# Example usage:\n",
        "tokenized_file = 'tokenized_sentences.txt'  # Specify the tokenized file name\n",
        "\n",
        "num_sentences = count_sentences(tokenized_file)\n",
        "print(\"Number of sentences:\", num_sentences)\n"
      ],
      "metadata": {
        "colab": {
          "base_uri": "https://localhost:8080/"
        },
        "id": "zIYixvehT7y6",
        "outputId": "6558c289-a4ef-49e5-9d6f-2ff72e39d08e"
      },
      "execution_count": 7,
      "outputs": [
        {
          "output_type": "stream",
          "name": "stdout",
          "text": [
            "Number of sentences: 141\n"
          ]
        }
      ]
    },
    {
      "cell_type": "markdown",
      "source": [
        "### Cleaning and removing stopwords from the tokenized file"
      ],
      "metadata": {
        "id": "Xabb_7hOV61I"
      }
    },
    {
      "cell_type": "code",
      "source": [
        "import nltk\n",
        "from nltk.corpus import stopwords\n",
        "nltk.download('stopwords')\n",
        "\n",
        "def remove_stopwords(tokenized_file, cleaned_file):\n",
        "    stop_words = set(stopwords.words('english'))\n",
        "\n",
        "    with open(tokenized_file, 'r', encoding='utf-8') as f:\n",
        "        tokenized_sentences = f.readlines()\n",
        "\n",
        "    cleaned_sentences = []\n",
        "    for sentence in tokenized_sentences:\n",
        "        words = sentence.split()\n",
        "        cleaned_words = [word for word in words if word.lower() not in stop_words]\n",
        "        cleaned_sentence = ' '.join(cleaned_words)\n",
        "        cleaned_sentences.append(cleaned_sentence)\n",
        "\n",
        "    with open(cleaned_file, 'w', encoding='utf-8') as f:\n",
        "        for sentence in cleaned_sentences:\n",
        "            f.write(sentence + '\\n')\n",
        "\n",
        "# Example usage:\n",
        "tokenized_file = 'tokenized_sentences.txt'  # Specify the tokenized file name\n",
        "cleaned_file = 'cleaned_sentences.txt'  # Specify the cleaned file name\n",
        "\n",
        "remove_stopwords(tokenized_file, cleaned_file)\n"
      ],
      "metadata": {
        "colab": {
          "base_uri": "https://localhost:8080/"
        },
        "id": "vDEkuWU7WCXT",
        "outputId": "2a52dc2e-de56-4f45-901e-64021f999d1c"
      },
      "execution_count": 8,
      "outputs": [
        {
          "output_type": "stream",
          "name": "stderr",
          "text": [
            "[nltk_data] Downloading package stopwords to /root/nltk_data...\n",
            "[nltk_data]   Unzipping corpora/stopwords.zip.\n"
          ]
        }
      ]
    },
    {
      "cell_type": "markdown",
      "source": [
        "### removing the sentences that are unfinished"
      ],
      "metadata": {
        "id": "tN_khwB-Wvw6"
      }
    },
    {
      "cell_type": "code",
      "source": [
        "import string\n",
        "\n",
        "def remove_unfinished_sentences(cleaned_file, finished_file):\n",
        "    with open(cleaned_file, 'r', encoding='utf-8') as f:\n",
        "        cleaned_sentences = f.readlines()\n",
        "\n",
        "    finished_sentences = []\n",
        "    for sentence in cleaned_sentences:\n",
        "        # Check if the sentence ends with a proper punctuation mark\n",
        "        if sentence.strip() and sentence.strip()[-1] in string.punctuation:\n",
        "            finished_sentences.append(sentence)\n",
        "\n",
        "    with open(finished_file, 'w', encoding='utf-8') as f:\n",
        "        for sentence in finished_sentences:\n",
        "            f.write(sentence)\n",
        "\n",
        "# Example usage:\n",
        "cleaned_file = 'cleaned_sentences.txt'  # Specify the cleaned file name\n",
        "finished_file = 'finished_sentences.txt'  # Specify the finished file name\n",
        "\n",
        "remove_unfinished_sentences(cleaned_file, finished_file)\n"
      ],
      "metadata": {
        "id": "PDXPqqP4W0e3"
      },
      "execution_count": 9,
      "outputs": []
    },
    {
      "cell_type": "markdown",
      "source": [
        "### rechecking num of sentences from finished files.\n"
      ],
      "metadata": {
        "id": "1Hjb7-EuXWlh"
      }
    },
    {
      "cell_type": "code",
      "source": [
        "# Example usage:\n",
        "tokenized_file = 'finished_sentences.txt'  # Specify the tokenized file name\n",
        "\n",
        "num_sentences = count_sentences(tokenized_file)\n",
        "print(\"Number of sentences:\", num_sentences)"
      ],
      "metadata": {
        "colab": {
          "base_uri": "https://localhost:8080/"
        },
        "id": "G8MJ86P3XVbb",
        "outputId": "c196cfda-0cbd-433f-9473-2e658f01182f"
      },
      "execution_count": 10,
      "outputs": [
        {
          "output_type": "stream",
          "name": "stdout",
          "text": [
            "Number of sentences: 111\n"
          ]
        }
      ]
    },
    {
      "cell_type": "markdown",
      "source": [
        "### I'll be using a text file that contains lemmatized words [ base grammar words ], and will use that words to compare grammar words from the sentence."
      ],
      "metadata": {
        "id": "w6-XKSb9R29M"
      }
    },
    {
      "cell_type": "code",
      "source": [],
      "metadata": {
        "id": "kRKbvSyGNJhG"
      },
      "execution_count": null,
      "outputs": []
    }
  ]
}